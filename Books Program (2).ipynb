{
 "cells": [
  {
   "cell_type": "code",
   "execution_count": 8,
   "id": "d8437765-1770-4fb3-a846-8883408675a9",
   "metadata": {},
   "outputs": [
    {
     "ename": "IndentationError",
     "evalue": "unindent does not match any outer indentation level (<tokenize>, line 14)",
     "output_type": "error",
     "traceback": [
      "\u001b[1;36m  File \u001b[1;32m<tokenize>:14\u001b[1;36m\u001b[0m\n\u001b[1;33m    print(\"Book added successfully.\")\u001b[0m\n\u001b[1;37m    ^\u001b[0m\n\u001b[1;31mIndentationError\u001b[0m\u001b[1;31m:\u001b[0m unindent does not match any outer indentation level\n"
     ]
    }
   ],
   "source": [
    "def add_book(book):\n",
    "    isbn = input(\"Enter ISBN:\")\n",
    "    title = input(\"Enter title:\")\n",
    "    author =  input(\"Enter author:\")\n",
    "    genre = input(\"Enter genre:\")\n",
    "    availability = \"available\"\n",
    "    book.append({\n",
    "        \"isbn\": isbn,\n",
    "        \"title\": title,\n",
    "        \"author\": author,\n",
    "        \"genre\": genre,\n",
    "        \"availability\": availability \n",
    "    })\n",
    "    print(\"Book added successfully.\")\n",
    "  \n",
    "def main():\n",
    "    books = []\n",
    "    add_book(books)\n",
    "    print(books)\n",
    "if _name_==\"_main_\":\n",
    "    main()\n",
    "\n",
    "\n"
   ]
  },
  {
   "cell_type": "code",
   "execution_count": 9,
   "id": "766021e8-e23b-4e36-9243-74f13644d0b8",
   "metadata": {},
   "outputs": [
    {
     "name": "stdin",
     "output_type": "stream",
     "text": [
      "Enter ISBN: 45\n",
      "Enter title: Virat Kohli, The legendary King\n",
      "Enter author: Shivam\n",
      "Enter genre: Programming\n"
     ]
    },
    {
     "name": "stdout",
     "output_type": "stream",
     "text": [
      "Book added successfully.\n",
      "[{'isbn': '45', 'title': 'Virat Kohli, The legendary King', 'author': 'Shivam', 'genre': 'Programming', 'availability': 'available'}]\n"
     ]
    }
   ],
   "source": [
    "main()"
   ]
  },
  {
   "cell_type": "code",
   "execution_count": 13,
   "id": "f53982c3-938a-4fb9-90ac-e60717b29547",
   "metadata": {},
   "outputs": [],
   "source": [
    "# Delete the books\n",
    "def delete_book(books):\n",
    "    isbn = input(\"Enter ISBN to delete:\")\n",
    "    for book in books:\n",
    "        if book[\"isbn\"] == isbn:\n",
    "            books.remove(book)\n",
    "            print(\"Book deleted successfully.\")\n",
    "            return\n",
    "        print(\"Book not found.\")\n",
    "\n",
    "def main():\n",
    "    books = [\n",
    "        {\"isbn\": \"45\", \"title\": \"Virat Kohli, The legendary King\", \"author\": \"Shivam\", \"genre\": \"Programming\", \"availability\": \"availability\"}\n",
    "    ]\n",
    "    delete_book(books)\n",
    "    \n",
    "\n",
    "if __name__== \"_main_\":\n",
    "    main()\n",
    "    \n",
    "\n",
    "\n",
    "    "
   ]
  },
  {
   "cell_type": "code",
   "execution_count": 14,
   "id": "1adf9f17-36fd-4b8e-b8d3-73a0f1998838",
   "metadata": {},
   "outputs": [
    {
     "name": "stdin",
     "output_type": "stream",
     "text": [
      "Enter ISBN to delete: 45\n"
     ]
    },
    {
     "name": "stdout",
     "output_type": "stream",
     "text": [
      "Book deleted successfully.\n",
      "[]\n"
     ]
    }
   ],
   "source": [
    "main()"
   ]
  },
  {
   "cell_type": "code",
   "execution_count": 17,
   "id": "b5432a10-2e84-4e9c-ac09-246a017805e0",
   "metadata": {},
   "outputs": [
    {
     "name": "stdout",
     "output_type": "stream",
     "text": [
      "ISBN: 123, Title: Python Basics, Author: John Doe, Genre: Programming, Status: available\n",
      "ISBN: 456, Title: Advance Python, Author: Jane Smith, Genre: Programming, Status: lend out\n"
     ]
    }
   ],
   "source": [
    "# Display books\n",
    "def display_book_details(books):\n",
    "    for book in books:\n",
    "        print(f\"ISBN: {book['isbn']}, Title: {book['title']}, Author: {book['author']}, Genre: {book['genre']}, Status: {book['availability']}\")\n",
    "        \n",
    "\n",
    "def main():\n",
    "    books = [\n",
    "        {\"isbn\": \"123\", \"title\": \"Python Basics\", \"author\": \"John Doe\", \"genre\": \"Programming\", \"availability\": \"available\"},\n",
    "        {\"isbn\": \"456\", \"title\": \"Advance Python\", \"author\": \"Jane Smith\", \"genre\": \"Programming\", \"availability\": \"lend out\"}\n",
    "    ]\n",
    "    display_book_details(books)\n",
    "\n",
    "if __name__== \"__main__\":\n",
    "    main()\n",
    "\n",
    "\n",
    "         \n",
    "        "
   ]
  },
  {
   "cell_type": "code",
   "execution_count": 19,
   "id": "b50c1a1f-3814-4776-98d8-e030333d33f1",
   "metadata": {},
   "outputs": [
    {
     "name": "stdin",
     "output_type": "stream",
     "text": [
      "Enter ISBN of the book to lend:  123\n"
     ]
    },
    {
     "name": "stdout",
     "output_type": "stream",
     "text": [
      "Book not found or already lent out,\n",
      "[{'isbn': '123', 'title': 'Python Basics', 'author': 'John Doe', 'genre': 'Programming', 'availability': 'available'}]\n",
      "{}\n"
     ]
    }
   ],
   "source": [
    "# Lending book\n",
    "def lend_book(books, lendings):\n",
    "    isbn = input(\"Enter ISBN of the book to lend: \")\n",
    "    for book in books:\n",
    "        if book[\"isbn\"] == isbn and book[\"availability\"] == \"availability\":\n",
    "            member_id = input(\"Enter member ID:\")\n",
    "            lending_date = input(\"Enter lending date:\")\n",
    "            lending[isbn] = {\n",
    "                \"member_id\": member_id,\n",
    "                \"lending_store\": lending_date\n",
    "            }\n",
    "            book[\"availability\"] = \"lend out\"\n",
    "            print(\"Book lent out successfully.\")\n",
    "            return \n",
    "        print (\"Book not found or already lent out,\")\n",
    "\n",
    "def main():\n",
    "    books = [\n",
    "        {\"isbn\": \"123\", \"title\": \"Python Basics\", \"author\": \"John Doe\", \"genre\": \"Programming\", \"availability\": \"available\"}\n",
    "    ]\n",
    "    lendings = {}\n",
    "    lend_book(books, lendings)\n",
    "    print(books)\n",
    "    print(lendings)\n",
    "\n",
    "if __name__ == \"__main__\":\n",
    "    main()\n",
    "         \n",
    "\n",
    "\n",
    "            "
   ]
  },
  {
   "cell_type": "code",
   "execution_count": 22,
   "id": "9648f8e3-1787-4172-aa4d-229a42f2ef25",
   "metadata": {},
   "outputs": [],
   "source": [
    "# return book \n",
    "def return_book(books, lendings):\n",
    "    isbn = input(\"Enter ISBN of the book to return:\")\n",
    "    if isbn in lendings:\n",
    "        for book in books:\n",
    "            if book [\"isbn\"] == isbn:\n",
    "                book[\"availability\"] = \"available\"\n",
    "                break \n",
    "        del lendings[isbn]\n",
    "        print(\"Book returned successfully.\")\n",
    "    else:\n",
    "        print(\"Book not found in lending records.\")\n",
    "\n",
    "def main():\n",
    "    books = [\n",
    "        {\"isbn\": \"123\", \"title\": \"Python Basics\", \"author\": \"John Doe\", \"genre\": \"Programming\", \"availability\": \"lent out\"}\n",
    "    ]\n",
    "    lendings = {\n",
    "        \"123\" : {\"member_id\": \"001\", \"lending_date\":\"2024-06-01\"}\n",
    "    }\n",
    "    return_book(books, lendings)\n",
    "    print(books)\n",
    "                \n",
    "\n"
   ]
  },
  {
   "cell_type": "code",
   "execution_count": 23,
   "id": "9c25974f-fe7e-48f9-9879-6db18db2ae8d",
   "metadata": {},
   "outputs": [
    {
     "name": "stdin",
     "output_type": "stream",
     "text": [
      "Enter ISBN of the book to return: 123\n"
     ]
    },
    {
     "name": "stdout",
     "output_type": "stream",
     "text": [
      "Book returned successfully.\n",
      "[{'isbn': '123', 'title': 'Python Basics', 'author': 'John Doe', 'genre': 'Programming', 'availability': 'available'}]\n"
     ]
    }
   ],
   "source": [
    "main()"
   ]
  },
  {
   "cell_type": "code",
   "execution_count": null,
   "id": "616983b3-2f34-49a3-8a3d-10b02e2566a0",
   "metadata": {},
   "outputs": [],
   "source": []
  }
 ],
 "metadata": {
  "kernelspec": {
   "display_name": "Python 3 (ipykernel)",
   "language": "python",
   "name": "python3"
  },
  "language_info": {
   "codemirror_mode": {
    "name": "ipython",
    "version": 3
   },
   "file_extension": ".py",
   "mimetype": "text/x-python",
   "name": "python",
   "nbconvert_exporter": "python",
   "pygments_lexer": "ipython3",
   "version": "3.11.7"
  }
 },
 "nbformat": 4,
 "nbformat_minor": 5
}
